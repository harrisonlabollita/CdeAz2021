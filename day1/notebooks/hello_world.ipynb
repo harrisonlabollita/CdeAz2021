{
 "cells": [
  {
   "cell_type": "markdown",
   "metadata": {},
   "source": [
    "# Getting Started with Jupyter Notebooks\n",
    "\n",
    "Hi! Welcome to Jupyter notebooks. These documents allow you to write notes, add images, display figures and plots, and **write source code** all within a single document. We will almost exclusively work within these notebooks for the week. So it is important to become familiar with the essential features of these documents.\n",
    "\n",
    "You are probably viewing this file within your web browser and there is another tab title \"Home\", which contains a list of files and folders that you can select to open. You will want to keep both of these open so that you can navigate your files and create new ones of your own.\n",
    "\n",
    "Let's get started with some of the basics that we will need for the course. Before we get started let's make sure that everything is working okay. Execute the line of Julia code below by either putting your cursor in the cell and typing \"Shift+Enter\" or clicking on the run command above.\n",
    "\n",
    "**Resources**\n",
    "\n",
    "- [Julia By Example](https://juliabyexample.helpmanual.io)"
   ]
  },
  {
   "cell_type": "code",
   "execution_count": null,
   "metadata": {},
   "outputs": [],
   "source": [
    "# Simple test to make sure everything is working...\n",
    "yourName   = readline()\n",
    "println(\"Hi $yourName ! Welcome to Julia (v $VERSION).\")"
   ]
  },
  {
   "cell_type": "markdown",
   "metadata": {},
   "source": [
    "**Did it work?**\n",
    "\n",
    "If you see a statement that looks like this\n",
    "```text\n",
    "    Hi Your Name ! Welcome to Julia (v X.X.X)\n",
    "```\n",
    "then you are successfully up and running! If not, then please ask for some assistance because something might not be working like it should be."
   ]
  },
  {
   "cell_type": "markdown",
   "metadata": {},
   "source": [
    "## Importing Packages\n",
    "We installed a couple of packages that we would like to use throughout the week. A package is a collection of code written in the native language, in this case Julia, that we can load into our notebooks and use their intended functionallity. Here we would like to load DFTK.jl (density functional toolkit), which we will use to perform some calculations later on this week.\n",
    "\n",
    "Importing packages is really in Julia. Try executing the commands below. These are pretty heavy packages meaning it might take a few seconds to load them into our notebook."
   ]
  },
  {
   "cell_type": "code",
   "execution_count": null,
   "metadata": {},
   "outputs": [],
   "source": [
    "# using tells Julia that we would like to load this package\n",
    "using DFTK\n",
    "using Plots  "
   ]
  },
  {
   "cell_type": "markdown",
   "metadata": {},
   "source": [
    "Next to the cell you should see ``In [*]`` the * denotes the notebook is excuting this cell of code currently. Once the * changes into an integer this means the cell has finished executing the code within this cell. If no errors occur this means we have successfully installed and loaded the packages need for the week. If an error is returned, please ask for some assistance."
   ]
  },
  {
   "cell_type": "markdown",
   "metadata": {},
   "source": [
    "## 📈 Simple Functions\n",
    "\n",
    "Functions are useful when you would like to write some code to do one thing generically on various different types of input. We will use functions to make our code cleaner to read as well as automate some of our tasks. In the next couple of blocks we introduce the syntax of the Julia functions through example. The basic architecture of Julia function looks like this \n",
    "    \n",
    "```julia\n",
    "        \n",
    "        function NameOfYourFunction(argument1, argument2, ...)\n",
    "                 # code to perform some kind of action with the arguments given\n",
    "    \n",
    "    \n",
    "    \n",
    "                 return #return the output from the operations you just performed\n",
    "        end\n",
    "```"
   ]
  },
  {
   "cell_type": "markdown",
   "metadata": {},
   "source": [
    "Now that we know what a skeleton of a function looks like, let's try to write our own. Consider that you are working on your math homework. Your homework has asked you to solve for the roots of many quadratic equations, which have the form\n",
    "\n",
    "$$ 0 = ax^2 + b x + c, $$\n",
    "which we know has a closed form solution\n",
    "\n",
    "$$ x = \\frac{ - b \\pm \\sqrt{b^{2} - 4ac}}{2a} $$\n",
    "\n",
    "Rather, than crunching the numbers by hand let's write a function that can do this for us and output the answer."
   ]
  },
  {
   "cell_type": "code",
   "execution_count": null,
   "metadata": {},
   "outputs": [],
   "source": [
    "function solve_quadratic(a, b, c)\n",
    "    # solve_quadratic - finds the roots of the quadratic equation: ax^2 + bx + c = 0\n",
    "    # Input: a - coefficient for x^2 term,\n",
    "    #        b - coefficient for x term,\n",
    "    #        c - coefficient for constant term\n",
    "    # Output: x1, x2 - the two roots from the quadratic equation.\n",
    "    okay = false\n",
    "    try\n",
    "        sqrt(b*b - 4*a*c)\n",
    "        okay = true\n",
    "    catch\n",
    "        println(\"Something went wrong with the sqrt. Possibly complex number encountered.\")\n",
    "    end\n",
    "    if okay\n",
    "        x_minus = (-b - sqrt(b*b - 4*a*c))/(2*a)\n",
    "        x_plus = (-b + sqrt(b*b - 4*a*c))/(2*a)\n",
    "        println(\"Roots of 0 = $a x^2 + $b x+ $c are: $x_minus, $x_plus\")\n",
    "        return x_plus, x_minus\n",
    "    end \n",
    "end;"
   ]
  },
  {
   "cell_type": "code",
   "execution_count": null,
   "metadata": {},
   "outputs": [],
   "source": [
    "solve_quadratic(2, 3, 1);"
   ]
  },
  {
   "cell_type": "markdown",
   "metadata": {},
   "source": [
    "## 💻 Exercise\n",
    "\n",
    "Write a function that will tell you all you need to know about a circle given it's radius. The function should print out the circle's radius, diameter, area, and circumference as well as return all of these.\n",
    "\n",
    "```julia\n",
    "        function circleProp(r)\n",
    "                # circleProp - determines the properties of a circle\n",
    "                # Input: r - the radius of the circle\n",
    "                \n",
    "                # calculate diameter\n",
    "                \n",
    "                # calculate area\n",
    "                \n",
    "                # calculate circumference\n",
    "                return r, d, area, circumference\n",
    "         end\n",
    "```\n",
    "\n",
    "Since you need to use the number $\\pi$ in your solution, it is useful to know an interesting property of the Julia language. It has this number stored inside of itself and it can be accessed by either calling `pi` or typing \"backslash\" + pi \"tab\". This will render the Greek letter pi. Try it out!"
   ]
  },
  {
   "cell_type": "code",
   "execution_count": null,
   "metadata": {},
   "outputs": [],
   "source": [
    "# Example of Greek letter' in Julia\n",
    "println(π)\n",
    "println(pi)"
   ]
  },
  {
   "cell_type": "markdown",
   "metadata": {},
   "source": [
    "## 📝 Arrays\n",
    "\n",
    "We will need to work with arrays a fair amount as well. Arrays are simply lists to hold onto information for us. They can hold onto integers, numbers, or strings (i.e., words). Below are a few examples of different kinds of arrays."
   ]
  },
  {
   "cell_type": "code",
   "execution_count": null,
   "metadata": {},
   "outputs": [],
   "source": [
    "array = [1, 2, 3] # a simple array"
   ]
  },
  {
   "cell_type": "code",
   "execution_count": null,
   "metadata": {},
   "outputs": [],
   "source": [
    "array = collect(1:100) # note that if you don't want something to output use a \";\" at the end of the line\n",
    "array = collect(1:100);"
   ]
  },
  {
   "cell_type": "code",
   "execution_count": null,
   "metadata": {},
   "outputs": [],
   "source": [
    "empty_array = []\n",
    "# now add to your empty array\n",
    "append!(empty_array, 1.0)\n",
    "println(empty_array)\n",
    "append!(empty_array, 100.0)\n",
    "println(empty_array)"
   ]
  },
  {
   "cell_type": "code",
   "execution_count": null,
   "metadata": {},
   "outputs": [],
   "source": [
    "# To access an element of an array use square brackets next to the name of the array and provide the index of \n",
    "# the element that you would like to access\n",
    "println(\"The first element in empty_array is $(empty_array[1])\")\n",
    "println(\"The last element in array is $(array[end])\")"
   ]
  },
  {
   "cell_type": "markdown",
   "metadata": {},
   "source": [
    "## 📖 Dictionaries\n",
    "\n",
    "Dictionaries are a special kind of object, which like a language dictionary stores keys and definitions. In an english dictionary, the words are the keys and the definitions are the values. We will use dictionaries to store related information into one object then call the information out of this using the names of the keys. Let's look into the syntax of Julia dictionaries."
   ]
  },
  {
   "cell_type": "code",
   "execution_count": null,
   "metadata": {},
   "outputs": [],
   "source": [
    "a1 = Dict(1=>\"one\", 2=>\"two\")\n",
    "println(a1[1])"
   ]
  },
  {
   "cell_type": "code",
   "execution_count": null,
   "metadata": {
    "scrolled": true
   },
   "outputs": [],
   "source": [
    "person = Dict(\"height\" => 5.6, \"weight\" => 130, \"name\" => \"Sally\", \"eye\" => \"brown\", \"age\" => 22)\n",
    "println(person[\"name\"])\n",
    "println(person[\"age\"])\n",
    "println(person[\"eye\"])"
   ]
  },
  {
   "cell_type": "markdown",
   "metadata": {},
   "source": [
    "## 4️⃣⭕️ Loops and Conditionals\n",
    "\n",
    "The most widely used part of any programming language are for loops and conditional statements. The basic structure of for loop in Julia is \n",
    "\n",
    "```julia\n",
    "        for index in array_to_loop_through\n",
    "                # perform some operation on index\n",
    "        end\n",
    "```\n",
    "\n",
    "Conditional statements are sections of code which check if a certain condition is true or false and knows what to do if the condition is true and what to do if it is false. A if/else statement looks like this\n",
    "```julia\n",
    "    condition = true\n",
    "    \n",
    "    if condition\n",
    "        # do something\n",
    "    else\n",
    "        # do something different (or just don't do anything)\n",
    "    end \n",
    "```"
   ]
  },
  {
   "cell_type": "markdown",
   "metadata": {},
   "source": [
    "## 💻 Exercise\n",
    "\n",
    "Write a for loop to square all the elements in an array of numbers 1 to 25."
   ]
  },
  {
   "cell_type": "markdown",
   "metadata": {},
   "source": [
    "## 💻 Exercise\n",
    "\n",
    "Write a for loop with a conditional statement inside that checks whether the number is even or odd. If the number is even square it. If the number is odd do not square it. Note that Julia has an ``iseven`` function. Try looking up the function first in the Julia documention so you can read how it works. \n",
    "\n",
    "**Note:** You'll often find yourself looking through the Julia documentation to find the syntax and arguments of functions that you would like to use. Also, Julia has many built functions that can do clever things which saves us the time of writing our functions to do simple things over and over.\n",
    "\n",
    "Julia is an open source language, which means that if you find yourself needing a feature that Julia doesn't have you can write it up yourself and contribute your code to the Julia code!"
   ]
  }
 ],
 "metadata": {
  "kernelspec": {
   "display_name": "JuliaPro_v1.5.3-1 1.5.3",
   "language": "julia",
   "name": "juliapro_v1.5.3-1-1.5"
  },
  "language_info": {
   "file_extension": ".jl",
   "mimetype": "application/julia",
   "name": "julia",
   "version": "1.5.3"
  }
 },
 "nbformat": 4,
 "nbformat_minor": 4
}
