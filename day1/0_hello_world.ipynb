{
 "cells": [
  {
   "cell_type": "markdown",
   "metadata": {},
   "source": [
    "# Getting Started with Jupyter Notebooks\n",
    "\n",
    "Hi! Welcome to Jupyter notebooks. These documents allow you to write notes, add images, display figures and plots, and **write source code** all within a single document. We will almost exclusively work within these notebooks for the week. So it is important to become familiar with the essential features of these documents.\n",
    "\n",
    "You are probably viewing this file within your web browser and there is another tab title \"Home\", which contains a list of files and folders that you can select to open. You will want to keep both of these open so that you can navigate your files and create new ones of your own.\n",
    "\n",
    "Let's get started with some of the basics that we will need for the course. Before we get started let's make sure that everything is working okay. Execute the line of Julia code below by either putting your cursor in the cell and typing \"Shift+Enter\" or clicking on the run command above.\n",
    "\n",
    "**Resources**\n",
    "\n",
    "- [Julia By Example](https://juliabyexample.helpmanual.io)"
   ]
  },
  {
   "cell_type": "code",
   "execution_count": 1,
   "metadata": {},
   "outputs": [
    {
     "name": "stdout",
     "output_type": "stream",
     "text": [
      "stdin> Harry LaBollita\n",
      "Hi Harry LaBollita ! Welcome to Julia (v 1.5.3).\n"
     ]
    }
   ],
   "source": [
    "yourName   = readline()\n",
    "println(\"Hi $yourName ! Welcome to Julia (v $VERSION).\")"
   ]
  },
  {
   "cell_type": "markdown",
   "metadata": {},
   "source": [
    "If you see a statement that looks like this\n",
    "```text\n",
    "    Hi Your Name ! Welcome to Julia (v X.X.X)\n",
    "```\n",
    "then you are successfully up and running! If not, then please ask for some assistance because something might not be working like it should be."
   ]
  },
  {
   "cell_type": "markdown",
   "metadata": {},
   "source": [
    "## Importing Packages\n",
    "We installed a couple of packages that we would like to use throughout the week. A package is a collection of code written in the native language, in this case Julia, that we can load into our notebooks and use their intended functionallity. Here we would like to load DFTK.jl (density functional toolkit), which we will use to perform some calculations later on this week.\n",
    "\n",
    "Importing packages is really in Julia. Try executing the commands below. These are pretty heavy packages meaning it might take a few seconds to load them into our notebook."
   ]
  },
  {
   "cell_type": "code",
   "execution_count": 2,
   "metadata": {},
   "outputs": [
    {
     "name": "stderr",
     "output_type": "stream",
     "text": [
      "┌ Warning: Package DFTK does not have Plots in its dependencies:\n",
      "│ - If you have DFTK checked out for development and have\n",
      "│   added Plots as a dependency but haven't updated your primary\n",
      "│   environment's manifest file, try `Pkg.resolve()`.\n",
      "│ - Otherwise you may need to report an issue with DFTK\n",
      "│ Loading Plots into DFTK from project dependency, future warnings for DFTK are suppressed.\n",
      "└ @ nothing nothing:910\n"
     ]
    }
   ],
   "source": [
    "# using tells Julia that we would like to load this package\n",
    "using DFTK\n",
    "using Plots   "
   ]
  },
  {
   "cell_type": "markdown",
   "metadata": {},
   "source": [
    "Next to the cell you should see ``In [*]`` the * denotes the notebook is excuting this cell of code currently. Once the * changes into an integer this means the cell has finished executing the code within this cell. If no errors occur this means we have successfully installed and loaded the packages need for the week. If an error is returned, please ask for some assistance."
   ]
  },
  {
   "cell_type": "markdown",
   "metadata": {},
   "source": [
    "## Simple Functions"
   ]
  },
  {
   "cell_type": "markdown",
   "metadata": {},
   "source": [
    "## Strings"
   ]
  },
  {
   "cell_type": "markdown",
   "metadata": {},
   "source": [
    "## Arrays"
   ]
  },
  {
   "cell_type": "markdown",
   "metadata": {},
   "source": [
    "## Dictionaries"
   ]
  },
  {
   "cell_type": "markdown",
   "metadata": {},
   "source": [
    "## Loops and Conditionals"
   ]
  },
  {
   "cell_type": "code",
   "execution_count": null,
   "metadata": {},
   "outputs": [],
   "source": []
  }
 ],
 "metadata": {
  "kernelspec": {
   "display_name": "JuliaPro_v1.5.3-1 1.5.3",
   "language": "julia",
   "name": "juliapro_v1.5.3-1-1.5"
  },
  "language_info": {
   "file_extension": ".jl",
   "mimetype": "application/julia",
   "name": "julia",
   "version": "1.5.3"
  }
 },
 "nbformat": 4,
 "nbformat_minor": 4
}
