{
 "cells": [
  {
   "cell_type": "markdown",
   "id": "c3c8d52a",
   "metadata": {},
   "source": [
    "This is a markdown cell."
   ]
  },
  {
   "cell_type": "code",
   "execution_count": 1,
   "id": "5347f478",
   "metadata": {},
   "outputs": [
    {
     "name": "stdout",
     "output_type": "stream",
     "text": [
      "This is a Julia cell\n"
     ]
    }
   ],
   "source": [
    "println(\"This is a Julia cell\")"
   ]
  },
  {
   "cell_type": "code",
   "execution_count": 2,
   "id": "a4c9997a",
   "metadata": {},
   "outputs": [],
   "source": [
    "using DFTK\n",
    "using Plots"
   ]
  },
  {
   "cell_type": "markdown",
   "id": "6c148b57",
   "metadata": {},
   "source": [
    "**Goal**: Optimize the lattice parameter of graphene!\n",
    "\n",
    "1. give a lattice parameter\n",
    "2. calculate the energy\n",
    "3. save that value\n",
    "4. repeat until we find the smallest energy"
   ]
  },
  {
   "cell_type": "code",
   "execution_count": 3,
   "id": "223ac85c",
   "metadata": {},
   "outputs": [],
   "source": [
    "function computeEnergy(a)\n",
    "    # lattice parameters\n",
    "    a = a/0.53   # convert units from angstroms to bohr\n",
    "    c = 10/0.53\n",
    "    \n",
    "    # building the crystal in the language that DFTK wants\n",
    "    C = ElementPsp(:C, psp=load_psp(:C, functional=\"lda\"))\n",
    "    positions = [[1/3., 2/3., 0], [2/3., 1/3., 0]]\n",
    "    atoms = [C => positions]\n",
    "    lattice = [[a -0.5*a 0]; \n",
    "               [0 0.5*sqrt(3)*a 0]; \n",
    "               [0 0 c]]\n",
    "    \n",
    "    # building a model to calculate energy\n",
    "    model = model_LDA(lattice, atoms, temperature=0.01)\n",
    "    basis = PlaneWaveBasis(model, 15, kgrid=[20, 20, 2])\n",
    "    scfres = self_consistent_field(basis; callback=info->nothing) # calculates energy!\n",
    "    E = scfres.energies.total;\n",
    "    return E\n",
    "end;"
   ]
  },
  {
   "cell_type": "code",
   "execution_count": 5,
   "id": "67d1522f",
   "metadata": {},
   "outputs": [
    {
     "data": {
      "text/plain": [
       "calculateEnergies (generic function with 1 method)"
      ]
     },
     "execution_count": 5,
     "metadata": {},
     "output_type": "execute_result"
    }
   ],
   "source": [
    "function calculateEnergies(trial_a)\n",
    "    \n",
    "    # trial_a : list of lattice parameters to compute the energy for\n",
    "    # return : list of energies corresponding to trial_a\n",
    "    \n",
    "    energies = []\n",
    "    # for each a compute the energy\n",
    "    for a in trial_a\n",
    "        E = computeEnergy(a)\n",
    "        append!(energies, E)\n",
    "        println(\"$a      $E\")\n",
    "    end\n",
    "    return energies\n",
    "end"
   ]
  },
  {
   "cell_type": "code",
   "execution_count": 20,
   "id": "f79393da",
   "metadata": {},
   "outputs": [
    {
     "name": "stdout",
     "output_type": "stream",
     "text": [
      "2.0      -10.825827348904541\n",
      "2.1      -10.987122874881104\n",
      "2.2      -11.091613826226467\n",
      "2.3      -11.152555430516843\n",
      "2.4      -11.18115718957586\n",
      "2.5      -11.186239240576642\n",
      "2.6      -11.17587875520656\n",
      "2.7      -11.156015185805485\n",
      "2.8      -11.129825069568785\n",
      "2.9      -11.098942909194125\n",
      "3.0      -11.064674442386458\n",
      "345.205670 seconds (30.73 M allocations: 60.655 GiB, 3.04% gc time)\n"
     ]
    }
   ],
   "source": [
    "trial_a = collect(2:0.1:3)\n",
    "@time energies = calculateEnergies(trial_a);"
   ]
  },
  {
   "cell_type": "code",
   "execution_count": 21,
   "id": "17b1dffe",
   "metadata": {},
   "outputs": [],
   "source": [
    "hcat([trial_a, energies]...);"
   ]
  },
  {
   "cell_type": "code",
   "execution_count": 22,
   "id": "cb0e693f",
   "metadata": {},
   "outputs": [],
   "source": [
    "plot(trial_a, energies, legend=false, m=:circle, markersize=3, linestyle=:solid)\n",
    "plot!(title = \"Graphene Optimization\", ylabel= \"Energy (Ha)\", xlabel = \"a (ang.)\")\n",
    "annotate!(2.5, -10.9, \"a ≈ 2.5 ang\")\n",
    "savefig(\"graphene_optim.pdf\")"
   ]
  }
 ],
 "metadata": {
  "kernelspec": {
   "display_name": "Julia 1.5.3",
   "language": "julia",
   "name": "julia-1.5"
  },
  "language_info": {
   "file_extension": ".jl",
   "mimetype": "application/julia",
   "name": "julia",
   "version": "1.5.3"
  }
 },
 "nbformat": 4,
 "nbformat_minor": 5
}
