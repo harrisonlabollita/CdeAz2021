{
 "cells": [
  {
   "cell_type": "markdown",
   "metadata": {
    "slideshow": {
     "slide_type": "slide"
    }
   },
   "source": [
    "# Geometry Optimization\n",
    "\n",
    "When we perform an electronic structure calculation the most important input is the crystal structure. The results are entirely dependent upon the structure that you have used, i.e., what are the atomic positions, the lattice parameters, angles, etc. That is why the first step of any calculation is to optimize the crystal structure."
   ]
  },
  {
   "cell_type": "markdown",
   "metadata": {
    "slideshow": {
     "slide_type": "slide"
    }
   },
   "source": [
    "In this notebook, we will optimize the in-plane lattice parameter for graphene structure. While most commercial DFT codes have built in optimization routines, we are going to manually optimize our structure. We only have a single parameter to optimize so this is doable by hand (and a little bit of code!)."
   ]
  },
  {
   "cell_type": "markdown",
   "metadata": {
    "slideshow": {
     "slide_type": "slide"
    }
   },
   "source": [
    "**How are we going to optimize the a lattice parameter?**\n",
    "\n",
    "In essence, we are going to perform an experiment albeit a computational one. \n",
    "\n",
    "- adjust lattice parameter\n",
    "- calculate energy\n",
    "- repeat\n",
    "- plot the results\n"
   ]
  },
  {
   "cell_type": "markdown",
   "metadata": {
    "slideshow": {
     "slide_type": "slide"
    }
   },
   "source": [
    "The minimum of this curve will tell us the optimal lattice parameter. The minimum of this curve is the optimal lattice parameter, because nature is always trying to minimize it's total energy, or in other words, nature is lazy!"
   ]
  },
  {
   "cell_type": "code",
   "execution_count": 1,
   "metadata": {
    "slideshow": {
     "slide_type": "slide"
    }
   },
   "outputs": [],
   "source": [
    "# load dependencies\n",
    "using DFTK\n",
    "using Plots"
   ]
  },
  {
   "cell_type": "markdown",
   "metadata": {
    "slideshow": {
     "slide_type": "slide"
    }
   },
   "source": [
    "## Crystal Structure of Graphene\n",
    "In the image below, we have the crystal structure of graphene. The blue spheres denote carbon atoms that are arranged in a 2d hexagonal lattice, where every carbon atoms has three nearest neighbors. The black border denotes the unit cell of the crystal.\n",
    "\n",
    "<img src=\"../../structure/graphene_img.png\" alt=\"graphene\" width=\"300\" align=\"left\"/>"
   ]
  },
  {
   "cell_type": "code",
   "execution_count": 2,
   "metadata": {
    "slideshow": {
     "slide_type": "slide"
    }
   },
   "outputs": [],
   "source": [
    "# Compute the energy\n",
    "# For now we haven't covered the details of how this function is working. This will be\n",
    "# done tomorrow. We will simple use this for now. All we need to know is that it is a \n",
    "# function that takes as input the the lattice parameter a and outputs the energy.\n",
    "\n",
    "function compute_scf(a; c = 10,  \n",
    "                        positions = [[1/3., 2/3., 0], [2/3., 1/3., 0]],\n",
    "                        Ecut=15, kgrid=[20, 20, 2],\n",
    "                        tol=1e-8,\n",
    "                        convert2bohr = x -> x/0.53)\n",
    "    a = convert2bohr(a)\n",
    "    c = convert2bohr(c)\n",
    "    C = ElementPsp(:C, psp=load_psp(\"hgh/lda/c-q4.hgh\"))\n",
    "    atoms = [C => [pos for pos in positions]]\n",
    "    lattice = [[a -0.5*a 0]; [0 0.5*sqrt(3)*a 0]; [0 0 c]]\n",
    "    model = model_LDA(lattice, atoms, temperature = 0.01)\n",
    "    basis = PlaneWaveBasis(model, Ecut; kgrid=kgrid)\n",
    "    scfres = self_consistent_field(basis; tol=tol, callback=info->nothing)\n",
    "    total_E = scfres.energies.total;\n",
    "    return total_E\n",
    "end;"
   ]
  },
  {
   "cell_type": "code",
   "execution_count": null,
   "metadata": {
    "slideshow": {
     "slide_type": "slide"
    }
   },
   "outputs": [],
   "source": [
    "# Write a function that computes the energy for a list of lattice parameters.\n",
    "function calcEnergies(trials)\n",
    "\n",
    "end;"
   ]
  },
  {
   "cell_type": "code",
   "execution_count": 3,
   "metadata": {
    "slideshow": {
     "slide_type": "skip"
    }
   },
   "outputs": [],
   "source": [
    "# Write a function that computes the energy for a list of lattice parameters.\n",
    "# Optional: Add a print statement so that once the energy is computed it will print the\n",
    "#           lattice parameter used and the energy at this data.\n",
    "# Note! Make sure that you store the energies in an array.\n",
    "\n",
    "function calcEnergies(trial)\n",
    "    energies = []\n",
    "    println(\"|   iter    |     a     |     Energy       |\")\n",
    "    println(\"|------------------------------------------|\")\n",
    "    for (i, a) in enumerate(trial)\n",
    "        E = compute_scf(a)\n",
    "        append!(energies, E)\n",
    "    println(\"| $i          $(round(a, sigdigits=4))  $E |\")\n",
    "    end\n",
    "    println(\"|------------------------------------------|\")\n",
    "    return energies\n",
    "end;"
   ]
  },
  {
   "cell_type": "code",
   "execution_count": null,
   "metadata": {
    "slideshow": {
     "slide_type": "slide"
    }
   },
   "outputs": [],
   "source": [
    "# run code"
   ]
  },
  {
   "cell_type": "code",
   "execution_count": null,
   "metadata": {
    "slideshow": {
     "slide_type": "slide"
    }
   },
   "outputs": [],
   "source": [
    "# plot the results"
   ]
  },
  {
   "cell_type": "code",
   "execution_count": null,
   "metadata": {
    "slideshow": {
     "slide_type": "skip"
    }
   },
   "outputs": [
    {
     "name": "stdout",
     "output_type": "stream",
     "text": [
      "|   iter    |     a     |     Energy       |\n",
      "|------------------------------------------|\n",
      "| 1          2.0  -10.82582735544047 |\n",
      "| 2          2.111  -11.001348445099254 |\n",
      "| 3          2.222  -11.108411936513262 |\n"
     ]
    }
   ],
   "source": [
    "# Example of what output will look like.\n",
    "trial_a = convert(Array, LinRange(2., 3., 10))\n",
    "energies = calcEnergies(trial_a);"
   ]
  },
  {
   "cell_type": "code",
   "execution_count": null,
   "metadata": {
    "slideshow": {
     "slide_type": "skip"
    }
   },
   "outputs": [],
   "source": [
    "plot(trial_a, energies, legend=false, m=:circle, \n",
    "    markersize=3, color=1, linestyle=:solid, \n",
    "    markerstrokecolor=1)\n",
    "plot!(title = \"Geometry Optimization\", xlabel = \"a (ang.)\", ylabel = \"Energy (Ha)\")\n",
    "plot!(xlims = (0, 5.5), ylims = (-2.2, 6), xticks = 0:0.5:10, yticks = [0,1,5,10])"
   ]
  },
  {
   "cell_type": "markdown",
   "metadata": {
    "slideshow": {
     "slide_type": "slide"
    }
   },
   "source": [
    "We can see the minimum of our energy versus displacement curve occurs around 2.46 ang., which is the correct in-plane lattice parameter for graphene."
   ]
  }
 ],
 "metadata": {
  "celltoolbar": "Slideshow",
  "kernelspec": {
   "display_name": "JuliaPro_v1.5.3-1 1.5.3",
   "language": "julia",
   "name": "juliapro_v1.5.3-1-1.5"
  },
  "language_info": {
   "file_extension": ".jl",
   "mimetype": "application/julia",
   "name": "julia",
   "version": "1.5.3"
  }
 },
 "nbformat": 4,
 "nbformat_minor": 4
}
