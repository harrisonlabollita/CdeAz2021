{
 "cells": [
  {
   "cell_type": "code",
   "execution_count": 2,
   "metadata": {
    "slideshow": {
     "slide_type": "skip"
    }
   },
   "outputs": [],
   "source": [
    "using Plots;"
   ]
  },
  {
   "cell_type": "markdown",
   "metadata": {
    "slideshow": {
     "slide_type": "slide"
    }
   },
   "source": [
    "## Day 2 - Morning Session\n",
    "**Outline**\n",
    "- atoms and crystal structure\n",
    "- how electron's behave\n",
    "- the Schrödinger equation\n",
    "- the problem..."
   ]
  },
  {
   "cell_type": "markdown",
   "metadata": {
    "slideshow": {
     "slide_type": "slide"
    }
   },
   "source": [
    "## atoms and crystal structure"
   ]
  },
  {
   "cell_type": "markdown",
   "metadata": {
    "slideshow": {
     "slide_type": "notes"
    }
   },
   "source": [
    "## Periodic Table (Atoms)\n",
    "\n",
    "So we want to go from individual atoms to crystal structures. How do we start from atoms and stick them together in such a way that holds them together. Obviously, the natural place to start here is the periodic table. This is essentially our \"_playground_\" if you will to build new materials. We have this set of elements to use as pieces to design and engineer new materials. Some of these are easier to work with than others.\n",
    "\n",
    "**Anatomy of Periodic Table**\n",
    "\n",
    "What is the basic anatomy of the periodic table. Each square indicates a new element. The information contained within each cell is: the name of the element, the number of protons which defines the atom, and the atomic mass."
   ]
  },
  {
   "cell_type": "markdown",
   "metadata": {
    "slideshow": {
     "slide_type": "subslide"
    }
   },
   "source": [
    "<img src=\"../../img/periodic_table.png\" alt=\"drawing\" width=\"800\" align=\"left\"/>"
   ]
  },
  {
   "cell_type": "markdown",
   "metadata": {
    "slideshow": {
     "slide_type": "subslide"
    }
   },
   "source": [
    "**brief basics of periodic table**\n",
    " - increasing the number of protons (electrons)\n",
    " - structure: nucleus (protons and neutrons) and electrons\n",
    " - all of life (C, H, N, O, S, P)"
   ]
  },
  {
   "cell_type": "markdown",
   "metadata": {
    "slideshow": {
     "slide_type": "notes"
    }
   },
   "source": [
    "The table is organized such that the number of protons increases from left to right. Each row is a period and all of the elements on a specific row have the outermost electrons in the same shell. **Interestingly**, _all of life_ is essentially comprised of just 5 these elements (H, C, O, N, S, P) and they are on the first two rows!"
   ]
  },
  {
   "cell_type": "markdown",
   "metadata": {
    "slideshow": {
     "slide_type": "subslide"
    }
   },
   "source": [
    "**How are elements made?**"
   ]
  },
  {
   "cell_type": "markdown",
   "metadata": {
    "slideshow": {
     "slide_type": "notes"
    }
   },
   "source": [
    "**Question**: Does anyone know how the elements were made? You are stardust. All of of the elements heavier than hydrogen, helium, and lithium are a consequence of exploding stars. A star is continuously burning nuclear in it's core to exist. In the core, it's constantly squeezing protons together to form heavier and heavier elements until it reaches an iron core. Once the star dies in a spectular explosion, it sends these freshly made elements throughout the galaxy."
   ]
  },
  {
   "cell_type": "markdown",
   "metadata": {
    "slideshow": {
     "slide_type": "subslide"
    }
   },
   "source": [
    "**What do they look like?**"
   ]
  },
  {
   "cell_type": "markdown",
   "metadata": {
    "slideshow": {
     "slide_type": "notes"
    }
   },
   "source": [
    "**What does an atom?**\n",
    "\n",
    "Let's start with the standard cartoon of the atom. We have the nucleus at the core and then the electrons swirling around at various radii. It was a huge feat to figure out that the electrons can only occupy specific energy levels (or electron shells). They can't just exist anywhere. We know this is correct otherwise the atom would not be stable and crash into the nucleus and there would be no life!\n",
    "\n",
    "The earliest model was reminiscent of celestial bodies with moons going around planets and planets orbiting around suns. This cartoon picture is helpful to keep in mind when thinking about the atomic structure, but we can get a bit more realistic."
   ]
  },
  {
   "cell_type": "code",
   "execution_count": null,
   "metadata": {
    "slideshow": {
     "slide_type": "subslide"
    }
   },
   "outputs": [],
   "source": [
    "function circle(x, y, r)\n",
    "    θ = LinRange(0, 2*π, 500)\n",
    "    x .+ r*sin.(θ), y .+ r*cos.(θ)\n",
    "end;\n",
    "\n",
    "n=100;\n",
    "anim = @animate for i ∈ 1:n\n",
    "    r = 0.05\n",
    "    p = plot(circle(0,0,1.1), seriestype=[:shape], lw=1, legend=false, axis=nothing, grid=false, c=:white, linecolor=:black, aspect_ratio=1);\n",
    "    plot!(p, circle(0,0,0.9), seriestype=[:shape], lw=1, legend=false, axis=nothing, grid=false, c=:white, linecolor=:black, aspect_ratio=1);\n",
    "    plot!(p, circle(0,0,0.7), seriestype=[:shape], lw=1, legend=false, axis=nothing, grid=false, c=:white, linecolor=:black, aspect_ratio=1);\n",
    "    plot!(p, circle(0,0,0.1), seriestype=[:shape], lw=0, legend=false, axis=nothing, grid=false, c=:red, linecolor=:red, fillalpha=0.5, aspect_ratio=1);\n",
    "    plot!(p, title=\"Cartoon of hydrogen\", showaxis=false);\n",
    "    annotate!(p, 0, 0.2, \"Z=1\");\n",
    "    x = cos(2π*i/n)\n",
    "    y = sin(2π*i/n)\n",
    "    plot!(p, circle(-x*0.7,y*0.7,r), seriestype=[:shape], lw=0, c=:blue, fillalpha=0.75)\n",
    "end;"
   ]
  },
  {
   "cell_type": "code",
   "execution_count": null,
   "metadata": {
    "slideshow": {
     "slide_type": "subslide"
    }
   },
   "outputs": [],
   "source": [
    "gif(anim, \"hydrogen.gif\", fps=20)"
   ]
  },
  {
   "cell_type": "markdown",
   "metadata": {
    "slideshow": {
     "slide_type": "subslide"
    }
   },
   "source": [
    "### but not quite\n",
    "\n",
    "This picture isn't quite right..."
   ]
  },
  {
   "cell_type": "markdown",
   "metadata": {
    "slideshow": {
     "slide_type": "notes"
    }
   },
   "source": [
    "Here is a more realistic picture of the hydrogen atom. Again, we have the proton at the center shown as the red sphere. But not the electron can exist anywhere in within the blue sphere which is more like an electron cloud. It turns out that we can't really think of the electrons as hard spheres, but rather a smeared out distribution of where the electron might live. This is our first quantum mechanical idea. We will revisit this a little later."
   ]
  },
  {
   "cell_type": "code",
   "execution_count": null,
   "metadata": {
    "slideshow": {
     "slide_type": "subslide"
    }
   },
   "outputs": [],
   "source": [
    "using PyPlot\n",
    "\n",
    "u = range(0,stop=2*π,length=n);\n",
    "v = range(0,stop=π,length=n);\n",
    "\n",
    "x = cos.(u) * sin.(v)';\n",
    "y = sin.(u) * sin.(v)';\n",
    "z = ones(n) * cos.(v)';\n",
    "p = plot(x,y,z, rstride=4, cstride=4, alpha=0.25, color = \"blue\", showaxis=false)\n",
    "r = 0.2\n",
    "x = r * cos.(u) * sin.(v)';\n",
    "y = r * sin.(u) * sin.(v)';\n",
    "z = r * ones(n) * cos.(v)';\n",
    "plot!(p, x,y,z, rstride=4, cstride=4, alpha=1, color = \"red\", showaxis=false)\n",
    "plot!(p, aspect_ratio=0.75, legend=false, showaxis=false, grid=false, xticks=[], yticks=[],zticks=[]);"
   ]
  },
  {
   "cell_type": "code",
   "execution_count": null,
   "metadata": {
    "slideshow": {
     "slide_type": "subslide"
    }
   },
   "outputs": [],
   "source": [
    "plot!(p, title=\"Realistic Hydrogen atom\")"
   ]
  },
  {
   "cell_type": "markdown",
   "metadata": {
    "slideshow": {
     "slide_type": "subslide"
    }
   },
   "source": [
    "<img src=\"../../img/electron_orbitals.jpg\" alt=\"drawing\" width=\"800\" align=\"left\"/>"
   ]
  },
  {
   "cell_type": "markdown",
   "metadata": {
    "slideshow": {
     "slide_type": "notes"
    }
   },
   "source": [
    "So recall earlier I mentioned that the electrons can occupy specific shells depending on it's energy. As we add electrons to an atom, the electrons keep fillin up these shells until we run out them. Each shell has a certain cloud like shape. We have given these names: s, p, d, f. You might have come across these in chemistry class perhaps. The shells here have different shapes and depending on the relevant electrons in a solid can influence the electronic and magnetic behavior of a solid. We will discuss this in detail later on, but it is helpful to visualize the kind of clouds that the electrons live in."
   ]
  },
  {
   "cell_type": "markdown",
   "metadata": {
    "slideshow": {
     "slide_type": "subslide"
    }
   },
   "source": [
    "The electron can be anywhere in the cloud, but what's the scale..?\n"
   ]
  },
  {
   "cell_type": "code",
   "execution_count": null,
   "metadata": {
    "slideshow": {
     "slide_type": "subslide"
    }
   },
   "outputs": [],
   "source": [
    "# If the proton where a tennis ball...\n",
    "proton = 0.8e-15 # m\n",
    "electron_cloud = 0.5e-10 # m\n",
    "scale = electron_cloud/proton\n",
    "tennis_ball = 6.86e-2 # m\n",
    "println(\"The size of the electron cloud at tennis ball scale is $(round(scale*tennis_ball/1000)) km or $(round(scale*tennis_ball/1000*0.621371)) mi.\")"
   ]
  },
  {
   "cell_type": "markdown",
   "metadata": {
    "slideshow": {
     "slide_type": "notes"
    }
   },
   "source": [
    "We have kind of established what the atom looks like and we have spoken a little bit about the character of the electrons that surround the atom. But let's crunch some numbers and establish a sense of scale. So if we take the approximate radius of a proton. and the approximate radius of the electron cloud. We can establish some kind of scale. So if we blew up the proton so that it was the size of a tennis ball, then radius of that electron cloud would be 3 miles! That's a cloud that is 6 miles across centered around our measly tennis ball.  Basically, atoms are a whole bunch of empty space!"
   ]
  },
  {
   "cell_type": "markdown",
   "metadata": {
    "slideshow": {
     "slide_type": "slide"
    }
   },
   "source": [
    "## how electron's behave"
   ]
  },
  {
   "cell_type": "markdown",
   "metadata": {
    "slideshow": {
     "slide_type": "notes"
    }
   },
   "source": [
    "Let's talk a little bit about how electrons behave and then how we can put atoms together to build a solid.\n",
    "\n",
    "First, let's talk about the masses of the protons and the electrons. It turns out that the mass of the proton is about 2000x the mass of the electron. This will be important latter on when we need to find ways to simplify the ultimate problem that we would like to solve."
   ]
  },
  {
   "cell_type": "code",
   "execution_count": null,
   "metadata": {
    "slideshow": {
     "slide_type": "subslide"
    }
   },
   "outputs": [],
   "source": [
    "# mass\n",
    "electron_mass = 9e-31 #kg\n",
    "proton_mass = 1.6e-27 #kg\n",
    "println(\"proton mass / electron mass = $(round(proton_mass/electron_mass))\")"
   ]
  },
  {
   "cell_type": "markdown",
   "metadata": {
    "slideshow": {
     "slide_type": "subslide"
    }
   },
   "source": [
    "### cans and can'ts\n",
    "- the electrons can exist in only certain shells (quantum)\n",
    "- can't be labelled: no red and blue or 1 and 2. Electrons are indistinguishable! (quantum)\n",
    "- charge (**opposites attact** and **likes repel**) (classical)\n",
    "- spin (quantum)\n",
    "- no two electrons can exist in the exact same spot! (quantum)\n",
    "- also, we can't ever really know where the electrons are! (quantum)"
   ]
  },
  {
   "cell_type": "markdown",
   "metadata": {
    "slideshow": {
     "slide_type": "notes"
    }
   },
   "source": [
    "Let's go over the cans and cant's of the electrons, which are charged particles. \n",
    "\n",
    "- We already saw electrons can only occupy certain discrete energy levels and this is completely quantum mechanical. We know this is true, because this is what makes certain materials transparent. \n",
    "- The next rule is that we can't label the electrons. Meaining all electrons are indistinguishable, fundamental particles that can't be told apart.\n",
    "- We haven't mentioned charge yet. But basically electrons carry around negative charge. Which charge is just like an object's mass or hair color, etc., it is a property of the electron. The protons are positively charged. Electrons and protons carry equal amounts of charge, but opposite in sign. Opposite charges attract each other and like charges repel.\n",
    "- Another intrinsic property of the electron is it's spin. This is completely quantum mechanical is actually pretty hard to think about in our head. Electrons are called spin-1/2 particles. This quantity gives rise to magnetism in a solid.\n",
    "- No two electrons can exist in the same spot! Recall, our atomic structure. As we add electrons to an atom, we are filling the electron shells. Each shell can carry two electrons one with spin up and and one with spin down. This is all of that is allowed. We can't have two electrons with the same spin in the same shell. This is physically not allowed.\n",
    "- Finally, we can never really know where the electron actually is! Like I was saying earlier there happens to be a probablity distribution associated with the electrons and where they will live.\n",
    "\n",
    "This is basically the concepts from quantum mechanics that we need to know to go any further. There are huge implications that these principles imply. They also make the problem that we are trying to solve so much harder!"
   ]
  },
  {
   "cell_type": "markdown",
   "metadata": {
    "slideshow": {
     "slide_type": "subslide"
    }
   },
   "source": [
    "## How do we get a solid?\n",
    "\n",
    "Electrons don't want to be together, but also are the glue that holds everything together!\n",
    "\n",
    "- Metallic bonding\n",
    "- Covalent bonding\n",
    "- Ionic bonding\n",
    "- and more..."
   ]
  },
  {
   "cell_type": "markdown",
   "metadata": {
    "slideshow": {
     "slide_type": "notes"
    }
   },
   "source": [
    "**How do we put the electrons together to get a solid?**\n",
    "\n",
    "There's a weird juxposition between electrons, because they don't want to be together but at the same time they are the glue that hold atoms together. There are few different ways that atoms can bond together and depending upon how the atoms bond together give us an idea about how a material might behave electronically."
   ]
  },
  {
   "cell_type": "markdown",
   "metadata": {
    "slideshow": {
     "slide_type": "subslide"
    }
   },
   "source": [
    "### Metallic Bonding 🍜\n",
    "\n",
    "All of the atoms share each other's electrons. Electron soup "
   ]
  },
  {
   "cell_type": "markdown",
   "metadata": {
    "slideshow": {
     "slide_type": "notes"
    }
   },
   "source": [
    "All of the nuclei of each atoms share their electrons with neighboring electrons. The electrons are weakly attached to the the nucleus. This forms a sea of negative charge through the solid. \n",
    "\n",
    "**How do you think this kind of material behaves electronically?** \n",
    "\n",
    "Will it be a good conductor or will it be insulating?"
   ]
  },
  {
   "cell_type": "markdown",
   "metadata": {
    "slideshow": {
     "slide_type": "subslide"
    }
   },
   "source": [
    "### Covalent Bonding 🤝\n",
    "\n",
    "Strong overlap between the electron orbitals on neighboring atoms"
   ]
  },
  {
   "cell_type": "markdown",
   "metadata": {
    "slideshow": {
     "slide_type": "notes"
    }
   },
   "source": [
    "This is formed when there is a strong ovelap between the electron shells and establishes a balance between the attraction and repulsion between the negative and positive charge. These kinds of materials are usually insulating."
   ]
  },
  {
   "cell_type": "markdown",
   "metadata": {
    "slideshow": {
     "slide_type": "subslide"
    }
   },
   "source": [
    "### Ionic bonding ☯️\n",
    "\n",
    "One atomic species gives up their electrons and another atomic species takes these electrons"
   ]
  },
  {
   "cell_type": "markdown",
   "metadata": {
    "slideshow": {
     "slide_type": "notes"
    }
   },
   "source": [
    "Ionic bonding are atoms held together by the fact that one of the atomic species doesn't want it's valence (outermost electron) and the other one does. An example of this is NaCl (table salt). Here Na has 7 electrons, with the outermost electron only weakly attracted to the core. While Cl has 17 electrons and wants to fill it's outermost shell. This behavior is what holds NaCl together."
   ]
  },
  {
   "cell_type": "markdown",
   "metadata": {
    "slideshow": {
     "slide_type": "slide"
    }
   },
   "source": [
    "## the Schrödinger equation"
   ]
  },
  {
   "cell_type": "markdown",
   "metadata": {
    "slideshow": {
     "slide_type": "subslide"
    }
   },
   "source": [
    "[Erwin Schrödinger](https://en.wikipedia.org/wiki/Erwin_Schrödinger) wrote down the equation\n",
    "\n",
    "$$ H\\psi = E \\psi $$"
   ]
  },
  {
   "cell_type": "markdown",
   "metadata": {
    "slideshow": {
     "slide_type": "subslide"
    }
   },
   "source": [
    "For a generic solid,\n",
    "\n",
    "$$ \\Bigg (-\\sum_{i} \\frac{ \\hbar^{2}}{2m_{e}} \\nabla^{2}_{\\vec{r}_{i}} - \\sum_{I}\\frac{Z_{I}e^{2}}{|\\vec{R}_{I} - \\vec{r}_{i}|} + \\frac{e^{2}}{2} \\sum_{i\\neq j} \\frac{1}{|\\vec{r}_{i} - \\vec{r}_{j}|} + \\mathcal{H}^{\\text{ion}} \\Bigg ) \\psi = E \\psi$$"
   ]
  },
  {
   "cell_type": "markdown",
   "metadata": {
    "slideshow": {
     "slide_type": "subslide"
    }
   },
   "source": [
    "Without holding back, this is essentially the equations that we need to solve. We can solve this for the hydrogen atom, but that's about it..."
   ]
  },
  {
   "cell_type": "markdown",
   "metadata": {
    "slideshow": {
     "slide_type": "slide"
    }
   },
   "source": [
    "## the problem..."
   ]
  },
  {
   "cell_type": "markdown",
   "metadata": {
    "slideshow": {
     "slide_type": "subslide"
    }
   },
   "source": [
    "Say we only want to keep track of the spin of N electrons. Their spin can be either up or down. \n",
    "\n",
    "We have to keep track of all of the possible configurations"
   ]
  },
  {
   "cell_type": "code",
   "execution_count": null,
   "metadata": {
    "slideshow": {
     "slide_type": "subslide"
    }
   },
   "outputs": [],
   "source": [
    "spins = 2                   # up and down\n",
    "N     = collect(1:5:100)    # number of electons\n",
    "for num ∈ N\n",
    "    sleep(1)\n",
    "    println(\"num e: $(num)  possible configs $(spins^num)\")\n",
    "    sleep(1)\n",
    "end"
   ]
  },
  {
   "cell_type": "markdown",
   "metadata": {
    "slideshow": {
     "slide_type": "subslide"
    }
   },
   "source": [
    "We need to keep track of $10^{23}$ electrons!"
   ]
  },
  {
   "cell_type": "code",
   "execution_count": null,
   "metadata": {
    "slideshow": {
     "slide_type": "subslide"
    }
   },
   "outputs": [],
   "source": [
    "println(\"If we had 1e23 dollar bills...\")\n",
    "sleep(2)\n",
    "println(\"1 dollar bill is $(6.14*1/12) feet...\")\n",
    "sleep(2)\n",
    "println(\"1e23 dollar bills would be $((6.14*1e23*(1/12))/5280) miles...\")\n",
    "sleep(2)\n",
    "println(\"The sun is 95 million miles...\")\n",
    "sleep(2)\n",
    "println(\"We could go to the sun and back $((6.14*1e23*(1/12))/5280/(2*95e6)) times!\")"
   ]
  },
  {
   "cell_type": "code",
   "execution_count": null,
   "metadata": {
    "slideshow": {
     "slide_type": "subslide"
    }
   },
   "outputs": [],
   "source": [
    "system(N) = rand(N, N)\n",
    "memory(N) = @time(system(N))\n",
    "memory(50000);"
   ]
  },
  {
   "cell_type": "markdown",
   "metadata": {
    "slideshow": {
     "slide_type": "subslide"
    }
   },
   "source": [
    "## So what are we going to do...\n",
    "\n",
    "We make approximations...this leads us to density functional theory!"
   ]
  }
 ],
 "metadata": {
  "celltoolbar": "Slideshow",
  "kernelspec": {
   "display_name": "JuliaPro_v1.5.3-1 1.5.3",
   "language": "julia",
   "name": "juliapro_v1.5.3-1-1.5"
  },
  "language_info": {
   "file_extension": ".jl",
   "mimetype": "application/julia",
   "name": "julia",
   "version": "1.5.3"
  }
 },
 "nbformat": 4,
 "nbformat_minor": 4
}
