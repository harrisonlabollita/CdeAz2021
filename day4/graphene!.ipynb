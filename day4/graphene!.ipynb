{
 "cells": [
  {
   "cell_type": "markdown",
   "id": "2b7c43fd",
   "metadata": {
    "slideshow": {
     "slide_type": "slide"
    }
   },
   "source": [
    "# Day 4 - Graphene!\n",
    "\n",
    "Today we are going to apply what we have learned and explore the electronic structure of graphene."
   ]
  },
  {
   "cell_type": "markdown",
   "id": "5857eacb",
   "metadata": {
    "slideshow": {
     "slide_type": "slide"
    }
   },
   "source": [
    "In this morning session,\n",
    "- write script to perform scf calculation for graphene\n",
    "    - calculate the band structure\n",
    "    - calculate the density of states\n",
    "- post processing!\n",
    "    - plot results"
   ]
  },
  {
   "cell_type": "markdown",
   "id": "a6b5ae74",
   "metadata": {
    "slideshow": {
     "slide_type": "slide"
    }
   },
   "source": [
    "## DFTK.jl\n",
    "\n",
    "**Goal**: Write a script that take as input:\n",
    "    - lattice,\n",
    "    - atomic positions,\n",
    "    - input parameters (Ecut, kgrid, etc.)"
   ]
  },
  {
   "cell_type": "code",
   "execution_count": null,
   "id": "afb023ed",
   "metadata": {
    "slideshow": {
     "slide_type": "slide"
    }
   },
   "outputs": [],
   "source": [
    "# load dependencies"
   ]
  },
  {
   "cell_type": "code",
   "execution_count": null,
   "id": "91999c76",
   "metadata": {
    "slideshow": {
     "slide_type": "slide"
    }
   },
   "outputs": [],
   "source": [
    "function run(lattice, atoms; extras)\n",
    "    # setup of the DFT calculation\n",
    "\n",
    "    # call self_consistent_field\n",
    "    \n",
    "    return scfres\n",
    "end"
   ]
  },
  {
   "cell_type": "code",
   "execution_count": null,
   "id": "0a6488c1",
   "metadata": {
    "slideshow": {
     "slide_type": "skip"
    }
   },
   "outputs": [],
   "source": [
    "# a simple solution\n",
    "function run(lattice, atoms; Ecut=15, kgrid=[20, 20, 1], tol=1e-11)\n",
    "    model = model_LDA(lattice, atoms, temperature = 0.01)\n",
    "    basis = PlaneWaveBasis(model, Ecut; kgrid=kgrid)\n",
    "    scfres = self_consistent_field(basis; tol=tol)\n",
    "    return scfres;\n",
    "end;"
   ]
  }
 ],
 "metadata": {
  "celltoolbar": "Slideshow",
  "kernelspec": {
   "display_name": "JuliaPro_v1.5.3-1 1.5.3",
   "language": "julia",
   "name": "juliapro_v1.5.3-1-1.5"
  },
  "language_info": {
   "file_extension": ".jl",
   "mimetype": "application/julia",
   "name": "julia",
   "version": "1.5.3"
  }
 },
 "nbformat": 4,
 "nbformat_minor": 5
}
