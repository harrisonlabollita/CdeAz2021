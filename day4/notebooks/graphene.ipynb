{
 "cells": [
  {
   "cell_type": "markdown",
   "id": "2b7c43fd",
   "metadata": {
    "slideshow": {
     "slide_type": "slide"
    }
   },
   "source": [
    "# Day 4 - Graphene!\n",
    "\n",
    "Today we are going to apply what we have learned and explore the electronic structure of graphene."
   ]
  },
  {
   "cell_type": "markdown",
   "id": "5857eacb",
   "metadata": {
    "slideshow": {
     "slide_type": "slide"
    }
   },
   "source": [
    "In this morning session,\n",
    "- write script to perform scf calculation for graphene\n",
    "    - calculate the band structure\n",
    "    - calculate the density of states\n",
    "- post processing!\n",
    "    - plot results"
   ]
  },
  {
   "cell_type": "markdown",
   "id": "a6b5ae74",
   "metadata": {
    "slideshow": {
     "slide_type": "slide"
    }
   },
   "source": [
    "## DFTK.jl\n",
    "\n",
    "**Goal**: Write a script that take as input:\n",
    "\n",
    "   - lattice,\n",
    "   - atomic positions,\n",
    "   - input parameters (Ecut, kgrid, etc.)"
   ]
  },
  {
   "cell_type": "code",
   "execution_count": 1,
   "id": "afb023ed",
   "metadata": {
    "slideshow": {
     "slide_type": "slide"
    }
   },
   "outputs": [],
   "source": [
    "# load dependencies\n",
    "using Dates\n",
    "using DFTK\n",
    "using Plots"
   ]
  },
  {
   "cell_type": "code",
   "execution_count": null,
   "id": "dd9e7f26",
   "metadata": {
    "slideshow": {
     "slide_type": "slide"
    }
   },
   "outputs": [],
   "source": [
    "function run(lattice, atoms; extras)\n",
    "    # setup of the DFT calculation\n",
    "\n",
    "    # call self_consistent_field\n",
    "    \n",
    "    return scfres\n",
    "end"
   ]
  },
  {
   "cell_type": "code",
   "execution_count": 2,
   "id": "0a6488c1",
   "metadata": {
    "slideshow": {
     "slide_type": "skip"
    }
   },
   "outputs": [],
   "source": [
    "# a simple solution\n",
    "function run(lattice, atoms; Ecut=20, kgrid=[20, 20, 1], tol=1e-10, temperature=0.01)\n",
    "    @info \"Building DFT model\"\n",
    "    model = model_LDA(lattice, atoms, temperature=temperature)\n",
    "    @info \"Constructing plane-wave basis set\"\n",
    "    basis = PlaneWaveBasis(model, Ecut; kgrid=kgrid)\n",
    "    @info \"Solving Kohn-Sham equations self-consistently\"\n",
    "    println()\n",
    "    println(\"Starting calculation at $(Dates.now())\")\n",
    "    println()\n",
    "    println(\"no. of electrons    = $(model.n_electrons)\")\n",
    "    println(\"k grid              = $(kgrid)\")\n",
    "    println(\"temperature         = $(temperature)\")\n",
    "    println(\"Ecut                = $(Ecut)\")\n",
    "    @time scfres = self_consistent_field(basis; tol=tol)\n",
    "    println()\n",
    "    println(\"Finished calculation at $(Dates.now())\")\n",
    "    println()\n",
    "    return basis, scfres\n",
    "end;"
   ]
  },
  {
   "cell_type": "code",
   "execution_count": 5,
   "id": "3388a795",
   "metadata": {
    "slideshow": {
     "slide_type": "skip"
    }
   },
   "outputs": [],
   "source": [
    "a = 4.6111\n",
    "c = 18.870\n",
    "lattice = [[a -0.5*a 0]; [0 0.5*sqrt(3)*a 0]; [0 0 c]];\n",
    "positions = [[1/3., 2/3., 0], [2/3., 1/3., 0]];\n",
    "C = ElementPsp(:C, psp=load_psp(:C, functional=\"lda\"));\n",
    "atoms = [C => [pos for pos in positions]];"
   ]
  },
  {
   "cell_type": "code",
   "execution_count": 6,
   "id": "4fdae73a",
   "metadata": {
    "slideshow": {
     "slide_type": "slide"
    }
   },
   "outputs": [
    {
     "name": "stderr",
     "output_type": "stream",
     "text": [
      "┌ Info: Building DFT model\n",
      "└ @ Main In[2]:3\n",
      "┌ Info: Constructing plane-wave basis set\n",
      "└ @ Main In[2]:5\n"
     ]
    },
    {
     "name": "stdout",
     "output_type": "stream",
     "text": [
      "\n",
      "Starting calculation at 2021-07-01T08:51:27.354\n",
      "\n",
      "no. of electrons    = 8\n"
     ]
    },
    {
     "name": "stderr",
     "output_type": "stream",
     "text": [
      "┌ Info: Solving Kohn-Sham equations self-consistently\n",
      "└ @ Main In[2]:7\n"
     ]
    },
    {
     "name": "stdout",
     "output_type": "stream",
     "text": [
      "k grid              = [20, 20, 1]\n",
      "temperature         = 0.01\n",
      "Ecut                = 20\n",
      "n     Free energy       Eₙ-Eₙ₋₁     ρout-ρin   Diag\n",
      "---   ---------------   ---------   --------   ----\n",
      "  1   -11.28756389586         NaN   2.62e-01    3.3 \n",
      "  2   -11.29647393224   -8.91e-03   3.78e-02    2.2 \n",
      "  3   -11.29707828927   -6.04e-04   8.04e-03    2.6 \n",
      "  4   -11.29711399926   -3.57e-05   7.75e-04    2.6 \n",
      "  5   -11.29711479756   -7.98e-07   1.18e-04    3.9 \n",
      "  6   -11.29711481336   -1.58e-08   1.27e-05    3.4 \n",
      "  7   -11.29711481357   -2.07e-10   1.56e-06    3.8 \n",
      "  8   -11.29711481357   -2.37e-12   1.62e-07    3.5 \n",
      "162.287322 seconds (113.67 M allocations: 18.185 GiB, 3.48% gc time)\n",
      "\n",
      "Finished calculation at 2021-07-01T08:54:10.116\n",
      "\n"
     ]
    }
   ],
   "source": [
    "basis, scfres = run(lattice, atoms);"
   ]
  },
  {
   "cell_type": "code",
   "execution_count": 7,
   "id": "2c204738",
   "metadata": {
    "slideshow": {
     "slide_type": "skip"
    }
   },
   "outputs": [],
   "source": [
    "ρ = heatmap(scfres.ρ.real[:, :, 1, 1], c=:sunset);"
   ]
  },
  {
   "cell_type": "code",
   "execution_count": 8,
   "id": "55fe4514",
   "metadata": {
    "slideshow": {
     "slide_type": "skip"
    }
   },
   "outputs": [
    {
     "name": "stdout",
     "output_type": "stream",
     "text": [
      "Computing bands along kpath:\n",
      "       Γ -> M -> K -> Γ -> A -> L -> H -> A  and  L -> M  and  K -> H\n"
     ]
    },
    {
     "name": "stderr",
     "output_type": "stream",
     "text": [
      "\u001b[32mDiagonalising Hamiltonian kblocks: 100%|████████████████| Time: 0:00:32\u001b[39m\n"
     ]
    }
   ],
   "source": [
    "bands = plot_bandstructure(scfres, kline_density=10)\n",
    "plot!(bands, xlabel = \" \", ylabel=\"ε - εF\", ylims=(-10, 10));"
   ]
  },
  {
   "cell_type": "code",
   "execution_count": 9,
   "id": "772bd4cc",
   "metadata": {
    "slideshow": {
     "slide_type": "skip"
    }
   },
   "outputs": [],
   "source": [
    "dos = plot_dos(scfres)\n",
    "plot!(dos, xlabel=\"ε\", ylabel=\"ρ(ε)\", ylim=(0, 60));"
   ]
  },
  {
   "cell_type": "code",
   "execution_count": 16,
   "id": "c8e77f30",
   "metadata": {
    "slideshow": {
     "slide_type": "slide"
    }
   },
   "outputs": [],
   "source": [
    "summary = plot(ρ, bands, dos, layout = (1, 3), size=(800, 400), title=[\"ρ\" \"ε(k)\" \"ρ(ε)\"])\n",
    "savefig(summary, \"graphene_summary.pdf\")"
   ]
  },
  {
   "cell_type": "markdown",
   "id": "561b8ed0",
   "metadata": {
    "slideshow": {
     "slide_type": "slide"
    }
   },
   "source": [
    "<img src=\"graphene_summary.pdf\" alt=\"drawing\" width=\"1000\" align=\"left\"/>"
   ]
  }
 ],
 "metadata": {
  "celltoolbar": "Slideshow",
  "kernelspec": {
   "display_name": "JuliaPro_v1.5.3-1 1.5.3",
   "language": "julia",
   "name": "juliapro_v1.5.3-1-1.5"
  },
  "language_info": {
   "file_extension": ".jl",
   "mimetype": "application/julia",
   "name": "julia",
   "version": "1.5.3"
  }
 },
 "nbformat": 4,
 "nbformat_minor": 5
}
