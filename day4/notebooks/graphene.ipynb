{
 "cells": [
  {
   "cell_type": "markdown",
   "metadata": {
    "slideshow": {
     "slide_type": "slide"
    }
   },
   "source": [
    "# Day 4 - Graphene!\n",
    "\n",
    "Today we are going to apply what we have learned and explore the electronic structure of graphene."
   ]
  },
  {
   "cell_type": "markdown",
   "metadata": {
    "slideshow": {
     "slide_type": "slide"
    }
   },
   "source": [
    "In this morning session,\n",
    "- write script to perform scf calculation for graphene\n",
    "    - calculate the band structure\n",
    "    - calculate the density of states\n",
    "- post processing!\n",
    "    - plot results"
   ]
  },
  {
   "cell_type": "markdown",
   "metadata": {
    "slideshow": {
     "slide_type": "slide"
    }
   },
   "source": [
    "## DFTK.jl\n",
    "\n",
    "**Goal**: Write a script that take as input:\n",
    "\n",
    "   - lattice,\n",
    "   - atomic positions,\n",
    "   - input parameters (Ecut, kgrid, etc.)"
   ]
  },
  {
   "cell_type": "code",
   "execution_count": 1,
   "metadata": {
    "slideshow": {
     "slide_type": "slide"
    }
   },
   "outputs": [],
   "source": [
    "# load dependencies\n",
    "using Dates\n",
    "using DFTK\n",
    "using Plots"
   ]
  },
  {
   "cell_type": "code",
   "execution_count": null,
   "metadata": {
    "slideshow": {
     "slide_type": "slide"
    }
   },
   "outputs": [],
   "source": [
    "function run(lattice, atoms; \n",
    "        Ecut=20, kgrid=[20, 20, 1], temperature=0.01)\n",
    "    # setup of the DFT calculation\n",
    "    model = \n",
    "    basis = \n",
    "    # call self_consistent_field\n",
    "    scfres = self_consistent_field(basis)\n",
    "    return scfres\n",
    "end\n",
    "results = run(lattice, atoms)\n",
    "# plotting\n",
    "plot_bandstructure(scfres, kline_density=10)\n",
    "plot_dos(scfres)\n",
    "heatmap(scfres.ρ[:, :, 1, 1], c=:sunset)"
   ]
  },
  {
   "cell_type": "code",
   "execution_count": 2,
   "metadata": {
    "slideshow": {
     "slide_type": "skip"
    }
   },
   "outputs": [],
   "source": [
    "# a simple solution\n",
    "function run(lattice, atoms; Ecut=20, kgrid=[20, 20, 1], tol=1e-10, temperature=0.01)\n",
    "    @info \"Building DFT model\"\n",
    "    model = model_LDA(lattice, atoms, temperature=temperature)\n",
    "    @info \"Constructing plane-wave basis set\"\n",
    "    basis = PlaneWaveBasis(model, Ecut; kgrid=kgrid)\n",
    "    @info \"Solving Kohn-Sham equations self-consistently\"\n",
    "    println()\n",
    "    println(\"Starting calculation at $(Dates.now())\")\n",
    "    println()\n",
    "    println(\"no. of electrons    = $(model.n_electrons)\")\n",
    "    println(\"k grid              = $(kgrid)\")\n",
    "    println(\"temperature         = $(temperature)\")\n",
    "    println(\"Ecut                = $(Ecut)\")\n",
    "    @time scfres = self_consistent_field(basis; tol=tol)\n",
    "    println()\n",
    "    println(\"Finished calculation at $(Dates.now())\")\n",
    "    println()\n",
    "    return basis, scfres\n",
    "end;"
   ]
  },
  {
   "cell_type": "code",
   "execution_count": 3,
   "metadata": {
    "slideshow": {
     "slide_type": "slide"
    }
   },
   "outputs": [],
   "source": [
    "# lattice parameters\n",
    "a = 4.6111 # bohr \n",
    "c = 18.870 # bohr\n",
    "\n",
    "# lattice for graphene\n",
    "lattice = [[a    -0.5*a         0]; \n",
    "           [0     0.5*sqrt(3)*a 0]; \n",
    "           [0     0             c]];\n",
    "# two carbon positions\n",
    "positions = [[1/3., 2/3., 0], [2/3., 1/3., 0]];\n",
    "\n",
    "# carbon\n",
    "C = ElementPsp(:C, psp=load_psp(:C, functional=\"lda\"));\n",
    "\n",
    "# atoms\n",
    "atoms = [C => positions];"
   ]
  },
  {
   "cell_type": "code",
   "execution_count": 4,
   "metadata": {
    "slideshow": {
     "slide_type": "slide"
    }
   },
   "outputs": [
    {
     "name": "stderr",
     "output_type": "stream",
     "text": [
      "┌ Info: Building DFT model\n",
      "└ @ Main In[2]:3\n",
      "┌ Info: Constructing plane-wave basis set\n",
      "└ @ Main In[2]:5\n"
     ]
    },
    {
     "name": "stdout",
     "output_type": "stream",
     "text": [
      "\n",
      "Starting calculation at 2021-08-31T09:23:31.248\n",
      "\n",
      "no. of electrons    = 8\n"
     ]
    },
    {
     "name": "stderr",
     "output_type": "stream",
     "text": [
      "┌ Info: Solving Kohn-Sham equations self-consistently\n",
      "└ @ Main In[2]:7\n"
     ]
    },
    {
     "name": "stdout",
     "output_type": "stream",
     "text": [
      "k grid              = [20, 20, 1]\n",
      "temperature         = 0.01\n",
      "Ecut                = 20\n",
      "n     Free energy       Eₙ-Eₙ₋₁     ρout-ρin   α      Diag\n",
      "---   ---------------   ---------   --------   ----   ----\n",
      "  1   -11.28755148401         NaN   2.62e-01   0.80    3.3\n",
      "  2   -11.29647466233   -8.92e-03   3.78e-02   0.80    2.2\n",
      "  3   -11.29708350461   -6.09e-04   8.43e-03   0.80    5.7\n",
      "  4   -11.29711452579   -3.10e-05   9.33e-04   0.80    4.3\n",
      "  5   -11.29711480798   -2.82e-07   9.05e-05   0.80    4.6\n",
      "  6   -11.29711481357   -5.59e-09   5.82e-06   0.80    4.5\n",
      "  7   -11.29711481357   -3.32e-12   6.13e-07   0.80    4.1\n",
      "157.436381 seconds (131.26 M allocations: 17.769 GiB, 3.09% gc time, 39.94% compilation time)\n",
      "\n",
      "Finished calculation at 2021-08-31T09:26:08.815\n",
      "\n"
     ]
    }
   ],
   "source": [
    "basis, scfres = run(lattice, atoms);"
   ]
  },
  {
   "cell_type": "code",
   "execution_count": 10,
   "metadata": {
    "slideshow": {
     "slide_type": "skip"
    }
   },
   "outputs": [],
   "source": [
    "ρ = heatmap(scfres.ρ[:, :, 1, 1], c=:sunset,xaxis=nothing, yaxis=nothing)\n",
    "savefig(ρ, \"charge.png\")"
   ]
  },
  {
   "cell_type": "code",
   "execution_count": 8,
   "metadata": {
    "slideshow": {
     "slide_type": "skip"
    }
   },
   "outputs": [
    {
     "name": "stdout",
     "output_type": "stream",
     "text": [
      "Computing bands along kpath:\n",
      "       Γ -> M -> K -> Γ -> A -> L -> H -> A  and  L -> M  and  K -> H\n"
     ]
    },
    {
     "name": "stderr",
     "output_type": "stream",
     "text": [
      "\u001b[32mDiagonalising Hamiltonian kblocks: 100%|████████████████| Time: 0:00:32\u001b[39m\n"
     ]
    }
   ],
   "source": [
    "bands = plot_bandstructure(scfres, kline_density=10)\n",
    "plot!(bands, xlabel = \" \", ylabel=\"ε - εF\", ylims=(-10, 10));"
   ]
  },
  {
   "cell_type": "code",
   "execution_count": 9,
   "metadata": {
    "slideshow": {
     "slide_type": "skip"
    }
   },
   "outputs": [],
   "source": [
    "dos = plot_dos(scfres)\n",
    "plot!(dos, xlabel=\"ε\", ylabel=\"ρ(ε)\", ylim=(0, 60));"
   ]
  },
  {
   "cell_type": "code",
   "execution_count": 16,
   "metadata": {
    "slideshow": {
     "slide_type": "slide"
    }
   },
   "outputs": [],
   "source": [
    "summary = plot(ρ, bands, dos, layout = (1, 3), size=(800, 400), title=[\"ρ\" \"ε(k)\" \"ρ(ε)\"])\n",
    "savefig(summary, \"graphene_summary.pdf\") "
   ]
  },
  {
   "cell_type": "markdown",
   "metadata": {
    "slideshow": {
     "slide_type": "slide"
    }
   },
   "source": [
    "<img src=\"graphene_summary.pdf\" alt=\"drawing\" width=\"1000\" align=\"left\"/>"
   ]
  }
 ],
 "metadata": {
  "celltoolbar": "Slideshow",
  "kernelspec": {
   "display_name": "Julia 1.6.2",
   "language": "julia",
   "name": "julia-1.6"
  },
  "language_info": {
   "file_extension": ".jl",
   "mimetype": "application/julia",
   "name": "julia",
   "version": "1.6.2"
  }
 },
 "nbformat": 4,
 "nbformat_minor": 5
}
