{
 "cells": [
  {
   "cell_type": "code",
   "execution_count": null,
   "id": "042e0b3d",
   "metadata": {
    "slideshow": {
     "slide_type": "skip"
    }
   },
   "outputs": [],
   "source": [
    "using DFTK\n",
    "using Plots"
   ]
  },
  {
   "cell_type": "markdown",
   "id": "ead2ed37",
   "metadata": {
    "slideshow": {
     "slide_type": "slide"
    }
   },
   "source": [
    "# Day 3 - Morning\n",
    "\n",
    "What we have to feed into our DFT code!\n",
    "\n",
    "- lattice\n",
    "- positions\n",
    "- atoms and how we want to treat their electrons"
   ]
  },
  {
   "cell_type": "markdown",
   "id": "aa86b363",
   "metadata": {
    "slideshow": {
     "slide_type": "slide"
    }
   },
   "source": [
    "All of the remaining will be specific to DFTK.jl!"
   ]
  },
  {
   "cell_type": "markdown",
   "id": "22cfd78e",
   "metadata": {
    "slideshow": {
     "slide_type": "slide"
    }
   },
   "source": [
    "## Lattice\n",
    "\n",
    "Let's start by defining the lattce on which the atoms live."
   ]
  },
  {
   "cell_type": "code",
   "execution_count": null,
   "id": "bbb216c3",
   "metadata": {
    "slideshow": {
     "slide_type": "subslide"
    }
   },
   "outputs": [],
   "source": [
    "# DFTK.jl receives the lattice as a 3 x 3 matrix\n",
    "matrix = rand(3, 3)"
   ]
  },
  {
   "cell_type": "code",
   "execution_count": null,
   "id": "e7485e4f",
   "metadata": {
    "slideshow": {
     "slide_type": "subslide"
    }
   },
   "outputs": [],
   "source": [
    "matrix;"
   ]
  },
  {
   "cell_type": "code",
   "execution_count": null,
   "id": "549b3c8f",
   "metadata": {
    "slideshow": {
     "slide_type": "subslide"
    }
   },
   "outputs": [],
   "source": [
    "lattice = [[1 0 0]; [0 1 0]; [0 0 1]]"
   ]
  },
  {
   "cell_type": "code",
   "execution_count": null,
   "id": "a2f01f7f",
   "metadata": {
    "slideshow": {
     "slide_type": "subslide"
    }
   },
   "outputs": [],
   "source": [
    "lattice[,:] # columns\n",
    "lattice[:, 2] # rows"
   ]
  },
  {
   "cell_type": "markdown",
   "id": "a690c755",
   "metadata": {
    "slideshow": {
     "slide_type": "slide"
    }
   },
   "source": [
    "## Positions\n",
    "\n",
    "Where do the atoms sit in the crystal structure!"
   ]
  },
  {
   "cell_type": "markdown",
   "id": "9b69c2c8",
   "metadata": {
    "slideshow": {
     "slide_type": "subslide"
    }
   },
   "source": [
    "$$ \\text{positions} = r_{1} \\begin{pmatrix} 1\\\\ 0\\\\ 0\\\\ \\end{pmatrix} + r_{2} \\begin{pmatrix} 0\\\\ 1\\\\ 0\\\\ \\end{pmatrix} + r_{3} \\begin{pmatrix} 0\\\\ 0\\\\ 1\\\\ \\end{pmatrix}$$"
   ]
  },
  {
   "cell_type": "code",
   "execution_count": null,
   "id": "c040fffd",
   "metadata": {
    "slideshow": {
     "slide_type": "subslide"
    }
   },
   "outputs": [],
   "source": [
    "positions = [[0, 0, 0], [0.5, 0.5, 0.0]];"
   ]
  },
  {
   "cell_type": "code",
   "execution_count": null,
   "id": "dd295c46",
   "metadata": {
    "slideshow": {
     "slide_type": "subslide"
    }
   },
   "outputs": [],
   "source": [
    "positions;"
   ]
  },
  {
   "cell_type": "markdown",
   "id": "cba57aae",
   "metadata": {
    "slideshow": {
     "slide_type": "slide"
    }
   },
   "source": [
    "## Atoms\n",
    "\n",
    "Specify the atomic species and how many electrons you want to use"
   ]
  },
  {
   "cell_type": "code",
   "execution_count": null,
   "id": "24345aaa",
   "metadata": {
    "slideshow": {
     "slide_type": "subslide"
    }
   },
   "outputs": [],
   "source": [
    "H = ElementPsp(:H, psp=load_psp(:H, functional=\"lda\"))"
   ]
  },
  {
   "cell_type": "code",
   "execution_count": null,
   "id": "2478313b",
   "metadata": {
    "slideshow": {
     "slide_type": "subslide"
    }
   },
   "outputs": [],
   "source": [
    "He = ElementPsp(:He, psp=load_psp(:He, functional=\"lda\"));\n",
    "O  = ElementPsp(:O, psp=load_psp(:O, functional=\"lda\"));\n",
    "Cu = ElementPsp(:Cu, psp=load_psp(:Cu, functional=\"lda\"));"
   ]
  },
  {
   "cell_type": "code",
   "execution_count": null,
   "id": "06f6c75f",
   "metadata": {
    "slideshow": {
     "slide_type": "subslide"
    }
   },
   "outputs": [],
   "source": [
    "r = collect(0:0.1:3)\n",
    "p = plot(ylims=(-30, 0), legend=:bottomright, xlabel=\"r\", ylabel=\"V(r)\", title=\"Pseudopotentials\")\n",
    "plot!(p, r, DFTK.local_potential_real.(Ref(H), r), label=\"H\")\n",
    "plot!(p, r, DFTK.local_potential_real.(Ref(He), r), label=\"He\")\n",
    "plot!(p, r, DFTK.local_potential_real.(Ref(O), r), label=\"O\")\n",
    "plot!(p, r, DFTK.local_potential_real.(Ref(Cu), r), label=\"Cu\")"
   ]
  },
  {
   "cell_type": "code",
   "execution_count": null,
   "id": "9a02eeff",
   "metadata": {
    "slideshow": {
     "slide_type": "subslide"
    }
   },
   "outputs": [],
   "source": [
    "r = collect(0:0.1:3)\n",
    "p = plot(ylims=(-10, 0), legend=:bottomright, xlabel=\"r\", ylabel=\"V(r)\")\n",
    "plot!(p, r, -1 ./ abs.(r), label=\"H\")\n",
    "plot!(p, r, DFTK.local_potential_real.(Ref(H), r), label=\"H pseudo\")"
   ]
  },
  {
   "cell_type": "markdown",
   "id": "071c01a9",
   "metadata": {
    "slideshow": {
     "slide_type": "slide"
    }
   },
   "source": [
    "## Build the atoms\n",
    "\n",
    "Put everything together..."
   ]
  },
  {
   "cell_type": "markdown",
   "id": "05f2f215",
   "metadata": {
    "slideshow": {
     "slide_type": "subslide"
    }
   },
   "source": [
    "DFTK uses dictionaries...\n",
    "```julia\n",
    "    \n",
    "    atoms = [species => position]\n",
    "\n",
    "```"
   ]
  }
 ],
 "metadata": {
  "celltoolbar": "Slideshow",
  "kernelspec": {
   "display_name": "JuliaPro_v1.5.3-1 1.5.3",
   "language": "julia",
   "name": "juliapro_v1.5.3-1-1.5"
  },
  "language_info": {
   "file_extension": ".jl",
   "mimetype": "application/julia",
   "name": "julia",
   "version": "1.5.3"
  }
 },
 "nbformat": 4,
 "nbformat_minor": 5
}
